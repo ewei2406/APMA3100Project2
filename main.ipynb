{
 "cells": [
  {
   "cell_type": "markdown",
   "metadata": {},
   "source": [
    "# Random Number Generator"
   ]
  },
  {
   "cell_type": "code",
   "execution_count": 141,
   "metadata": {},
   "outputs": [],
   "source": [
    "import math\n",
    "x0 = 1000\n",
    "a = 24693\n",
    "c = 3517\n",
    "K = math.pow(2, 17)\n",
    "\n",
    "def lcong_randnum(i, num=x0):\n",
    "    if i == 0: return num / K\n",
    "    return lcong_randnum(i - 1, ((num * 24693) + 3517) % K)"
   ]
  },
  {
   "cell_type": "code",
   "execution_count": 142,
   "metadata": {},
   "outputs": [],
   "source": [
    "u = 0\n",
    "def rand_num():\n",
    "    global u\n",
    "    u += 1\n",
    "    return lcong_randnum(u, 1000)"
   ]
  },
  {
   "cell_type": "code",
   "execution_count": 144,
   "metadata": {},
   "outputs": [
    {
     "data": {
      "text/plain": [
       "0.0425262451171875"
      ]
     },
     "execution_count": 144,
     "metadata": {},
     "output_type": "execute_result"
    }
   ],
   "source": [
    "rand_num()"
   ]
  },
  {
   "cell_type": "markdown",
   "metadata": {},
   "source": [
    "## Exponential random var"
   ]
  },
  {
   "cell_type": "code",
   "execution_count": 145,
   "metadata": {},
   "outputs": [],
   "source": [
    "def exponential_random(mean=12):\n",
    "    return - mean * (math.log(1 - rand_num()))"
   ]
  },
  {
   "cell_type": "code",
   "execution_count": 146,
   "metadata": {},
   "outputs": [],
   "source": [
    "x = []\n",
    "for i in range(1000):\n",
    "    x.append(exponential_random())"
   ]
  },
  {
   "cell_type": "code",
   "execution_count": 148,
   "metadata": {},
   "outputs": [
    {
     "data": {
      "image/png": "[encoded data removed]",
      "text/plain": [
       "<Figure size 432x288 with 1 Axes>"
      ]
     },
     "metadata": {
      "needs_background": "light"
     },
     "output_type": "display_data"
    }
   ],
   "source": [
    "import matplotlib.pyplot as plt\n",
    "fix, ax = plt.subplots()\n",
    "ax.hist(x, bins=30, linewidth=0.5, edgecolor=\"white\")\n",
    "plt.show()"
   ]
  },
  {
   "cell_type": "code",
   "execution_count": 214,
   "metadata": {},
   "outputs": [],
   "source": [
    "def run_simulation(cumulative_time=0, try_num=1, verbose=False):\n",
    "    if verbose: print(f\"Try #{try_num}: \", end=\"\")\n",
    "    cumulative_time += 6 # Turn on the phone and dial the customer\n",
    "    random_var = rand_num()\n",
    "    if random_var <= 0.2: \n",
    "        if verbose: print(\"Line was busy\")\n",
    "        cumulative_time += 3 + 1 # Line was busy, end the call\n",
    "    elif random_var <= 0.5:\n",
    "        if verbose: print(\"Customer unavailable\")\n",
    "        cumulative_time += 25 + 1 # Customer was unavailable, end the call\n",
    "    else:\n",
    "        customer_duration = exponential_random()\n",
    "        if customer_duration <= 25:\n",
    "            if verbose: print(f\"Customer picked up in {customer_duration:.2f}s\")\n",
    "            cumulative_time += customer_duration + 1 # Cusomter picks up, end the call\n",
    "            return cumulative_time\n",
    "        else:\n",
    "            if verbose: print(\"Customer did not pick up in time\")\n",
    "            cumulative_time += 25 + 1 # Customer did not pick up in time\n",
    "    \n",
    "    if try_num <= 4:\n",
    "        return run_simulation(cumulative_time, try_num + 1, verbose) # Try again if less than 4 attempts\n",
    "    else:\n",
    "        if verbose: print(\"Gave up\")\n",
    "        return cumulative_time # Give up"
   ]
  },
  {
   "cell_type": "code",
   "execution_count": 223,
   "metadata": {},
   "outputs": [
    {
     "name": "stdout",
     "output_type": "stream",
     "text": [
      "Try #1: Customer did not pick up in time\n",
      "Try #2: Customer unavailable\n",
      "Try #3: Customer unavailable\n",
      "Try #4: Customer unavailable\n",
      "Try #5: Customer picked up in 17.15s\n"
     ]
    },
    {
     "data": {
      "text/plain": [
       "152.15147132963895"
      ]
     },
     "execution_count": 223,
     "metadata": {},
     "output_type": "execute_result"
    }
   ],
   "source": [
    "run_simulation(0, 1, True)"
   ]
  }
 ],
 "metadata": {
  "interpreter": {
   "hash": "31f2aee4e71d21fbe5cf8b01ff0e069b9275f58929596ceb00d14d90e3e16cd6"
  },
  "kernelspec": {
   "display_name": "Python 3.8.9 64-bit",
   "language": "python",
   "name": "python3"
  },
  "language_info": {
   "codemirror_mode": {
    "name": "ipython",
    "version": 3
   },
   "file_extension": ".py",
   "mimetype": "text/x-python",
   "name": "python",
   "nbconvert_exporter": "python",
   "pygments_lexer": "ipython3",
   "version": "3.9.7"
  },
  "orig_nbformat": 4
 },
 "nbformat": 4,
 "nbformat_minor": 2
}
