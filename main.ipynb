{
 "cells": [
  {
   "cell_type": "markdown",
   "metadata": {},
   "source": [
    "# Random Number Generator"
   ]
  },
  {
   "cell_type": "code",
   "execution_count": 270,
   "metadata": {},
   "outputs": [
    {
     "data": {
      "text/plain": [
       "(0.41947174072265625, 0.0425262451171875, 0.12740325927734375)"
      ]
     },
     "execution_count": 270,
     "metadata": {},
     "output_type": "execute_result"
    }
   ],
   "source": [
    "import math\n",
    "x0 = 1000\n",
    "a = 24693\n",
    "c = 3517\n",
    "K = math.pow(2, 17)\n",
    "\n",
    "def lcong_randnum(i, num=x0):\n",
    "    for a in range(i):\n",
    "        num = ((num * 24693) + 3517) % K\n",
    "    return num / K\n",
    "\n",
    "lcong_randnum(1), lcong_randnum(2), lcong_randnum(3)"
   ]
  },
  {
   "cell_type": "code",
   "execution_count": 271,
   "metadata": {},
   "outputs": [],
   "source": [
    "u = 0\n",
    "def rand_num():\n",
    "    global u\n",
    "    u += 1\n",
    "    return lcong_randnum(u, 1000)"
   ]
  },
  {
   "cell_type": "code",
   "execution_count": 272,
   "metadata": {},
   "outputs": [
    {
     "data": {
      "text/plain": [
       "0.41947174072265625"
      ]
     },
     "execution_count": 272,
     "metadata": {},
     "output_type": "execute_result"
    }
   ],
   "source": [
    "rand_num()"
   ]
  },
  {
   "cell_type": "markdown",
   "metadata": {},
   "source": [
    "## Exponential random var"
   ]
  },
  {
   "cell_type": "code",
   "execution_count": 273,
   "metadata": {},
   "outputs": [],
   "source": [
    "def exponential_random(mean=12):\n",
    "    return - mean * (math.log(1 - rand_num()))"
   ]
  },
  {
   "cell_type": "code",
   "execution_count": 274,
   "metadata": {},
   "outputs": [],
   "source": [
    "x = []\n",
    "for i in range(1000):\n",
    "    x.append(exponential_random())"
   ]
  },
  {
   "cell_type": "code",
   "execution_count": 275,
   "metadata": {},
   "outputs": [
    {
     "data": {
      "image/png": "[encoded data removed]",
      "text/plain": [
       "<Figure size 432x288 with 1 Axes>"
      ]
     },
     "metadata": {
      "needs_background": "light"
     },
     "output_type": "display_data"
    }
   ],
   "source": [
    "import matplotlib.pyplot as plt\n",
    "fix, ax = plt.subplots()\n",
    "ax.hist(x, bins=30, linewidth=0.5, edgecolor=\"white\")\n",
    "plt.show()"
   ]
  },
  {
   "cell_type": "markdown",
   "metadata": {},
   "source": [
    "# Simulation"
   ]
  },
  {
   "cell_type": "code",
   "execution_count": 276,
   "metadata": {},
   "outputs": [],
   "source": [
    "def run_simulation(cumulative_time=0, try_num=1, verbose=False):\n",
    "    cumulative_time += 6 # Turn on the phone and dial the customer\n",
    "    random_var = rand_num()\n",
    "    if random_var <= 0.2: \n",
    "        cumulative_time += 3 + 1 # Line was busy, end the call\n",
    "    elif random_var <= 0.5:\n",
    "        cumulative_time += 25 + 1 # Customer was unavailable, end the call\n",
    "    else:\n",
    "        customer_duration = exponential_random()\n",
    "        if customer_duration <= 25:\n",
    "            cumulative_time += customer_duration + 1 # Cusomter picks up, end the call\n",
    "            return cumulative_time\n",
    "        else:\n",
    "            cumulative_time += 25 + 1 # Customer did not pick up in time\n",
    "    \n",
    "    if try_num <= 4:\n",
    "        return run_simulation(cumulative_time, try_num + 1, verbose) # Try again if less than 4 attempts\n",
    "    else:\n",
    "        return cumulative_time # Give up"
   ]
  },
  {
   "cell_type": "code",
   "execution_count": 277,
   "metadata": {},
   "outputs": [
    {
     "name": "stdout",
     "output_type": "stream",
     "text": [
      "Try #1: Line was busy\n",
      "Try #2: Customer picked up in 1.30s\n"
     ]
    },
    {
     "data": {
      "text/plain": [
       "18.302717613143017"
      ]
     },
     "execution_count": 277,
     "metadata": {},
     "output_type": "execute_result"
    }
   ],
   "source": [
    "run_simulation(0, 1, True)"
   ]
  },
  {
   "cell_type": "markdown",
   "metadata": {},
   "source": [
    "## Run it 1000 times"
   ]
  },
  {
   "cell_type": "code",
   "execution_count": 278,
   "metadata": {},
   "outputs": [],
   "source": [
    "vals = []\n",
    "for i in range(1000):\n",
    "    vals.append(run_simulation())"
   ]
  },
  {
   "cell_type": "code",
   "execution_count": 285,
   "metadata": {},
   "outputs": [
    {
     "data": {
      "image/png": "[encoded data removed]",
      "text/plain": [
       "<Figure size 432x288 with 1 Axes>"
      ]
     },
     "metadata": {
      "needs_background": "light"
     },
     "output_type": "display_data"
    }
   ],
   "source": [
    "fix, ax = plt.subplots()\n",
    "ax.hist(vals, bins=50, linewidth=1)\n",
    "\n",
    "ax.set_ylabel('Frequency')\n",
    "ax.set_xlabel('w (seconds)')\n",
    "ax.set_title('Distribution of W')\n",
    "\n",
    "plt.show()"
   ]
  },
  {
   "cell_type": "markdown",
   "metadata": {},
   "source": [
    "# Get values from distribution"
   ]
  },
  {
   "cell_type": "code",
   "execution_count": 314,
   "metadata": {},
   "outputs": [],
   "source": [
    "def cdf(a, left, right):\n",
    "    x = 0\n",
    "    for v in a:\n",
    "        if left <= v <= right: x += v\n",
    "    return x.item() / a.sum().item()"
   ]
  },
  {
   "cell_type": "code",
   "execution_count": 311,
   "metadata": {},
   "outputs": [
    {
     "data": {
      "text/plain": [
       "(43.936015816626686, 30.87503463989006, 14.815166609966825, 63.687242524568205)"
      ]
     },
     "execution_count": 311,
     "metadata": {},
     "output_type": "execute_result"
    }
   ],
   "source": [
    "import numpy as np\n",
    "a = np.array(vals)\n",
    "a.sort()\n",
    "np.mean(a), np.median(a), np.quantile(a, 0.25), np.quantile(a, 0.75)"
   ]
  },
  {
   "cell_type": "code",
   "execution_count": 316,
   "metadata": {},
   "outputs": [
    {
     "name": "stdout",
     "output_type": "stream",
     "text": [
      "(0, 15): 0.06\n",
      "(0, 20): 0.11\n",
      "(0, 30): 0.18\n",
      "(40,): 0.77\n",
      "(80,): 0.44\n",
      "(140,): 0.05\n"
     ]
    }
   ],
   "source": [
    "for upper_bound in [15, 20, 30]:\n",
    "    print(f\"(0, {upper_bound}): {cdf(a, 0, upper_bound):.2f}\")\n",
    "\n",
    "for lower_bound in [40, 80, 140]:\n",
    "    print(f\"({lower_bound},): {cdf(a, lower_bound, 99999):.2f}\")"
   ]
  },
  {
   "cell_type": "markdown",
   "metadata": {},
   "source": [
    "# Plot distribution as PDF"
   ]
  },
  {
   "cell_type": "code",
   "execution_count": 327,
   "metadata": {},
   "outputs": [
    {
     "data": {
      "image/png": "[encoded data removed]",
      "text/plain": [
       "<Figure size 432x288 with 1 Axes>"
      ]
     },
     "metadata": {
      "needs_background": "light"
     },
     "output_type": "display_data"
    }
   ],
   "source": [
    "fix, ax = plt.subplots()\n",
    "ax.hist(vals, bins=50, linewidth=1, density=True)\n",
    "\n",
    "ax.set_ylabel('P')\n",
    "ax.set_xlabel('w (seconds)')\n",
    "ax.set_title('Distribution of W')\n",
    "\n",
    "plt.show()"
   ]
  }
 ],
 "metadata": {
  "interpreter": {
   "hash": "31f2aee4e71d21fbe5cf8b01ff0e069b9275f58929596ceb00d14d90e3e16cd6"
  },
  "kernelspec": {
   "display_name": "Python 3.8.9 64-bit",
   "language": "python",
   "name": "python3"
  },
  "language_info": {
   "codemirror_mode": {
    "name": "ipython",
    "version": 3
   },
   "file_extension": ".py",
   "mimetype": "text/x-python",
   "name": "python",
   "nbconvert_exporter": "python",
   "pygments_lexer": "ipython3",
   "version": "3.9.7"
  },
  "orig_nbformat": 4
 },
 "nbformat": 4,
 "nbformat_minor": 2
}
